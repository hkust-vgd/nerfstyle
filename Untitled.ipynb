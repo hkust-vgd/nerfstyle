{
 "cells": [
  {
   "cell_type": "code",
   "execution_count": null,
   "id": "da7f21bb",
   "metadata": {},
   "outputs": [],
   "source": [
    "import numpy as np\n",
    "import torch\n",
    "our_model_sd = torch.load('runs/chair/iter_600000.pth')['model']\n",
    "kn_model_sd = torch.load('../kilonerf/logs/paper/pretrain/Synthetic_NeRF_Chair/checkpoint_0500000.pth')['model_state_dict']"
   ]
  },
  {
   "cell_type": "code",
   "execution_count": null,
   "id": "06b5da8b",
   "metadata": {},
   "outputs": [],
   "source": [
    "def create_order(n, k=3):\n",
    "    return list(np.arange(2 * n * k).reshape(n * 2, k).T.flatten() + k) + list(range(k))\n",
    "\n",
    "k2o_dict = {\n",
    "    'pts_linears': 'x_layers',\n",
    "    'views_linears': 'd_layers',\n",
    "    'feature_linear': 'x2d_layer',\n",
    "    'alpha_linear': 'a_layer',\n",
    "    'rgb_linear': 'c_layer'\n",
    "}\n",
    "\n",
    "o2k_dict = {v: k for k, v in k2o_dict.items()}"
   ]
  },
  {
   "cell_type": "code",
   "execution_count": null,
   "id": "1f118072",
   "metadata": {},
   "outputs": [],
   "source": [
    "x = torch.rand(1, 63)\n",
    "w = torch.rand(10, 63)\n",
    "fc = Linear(63, 10, bias=False)"
   ]
  },
  {
   "cell_type": "code",
   "execution_count": null,
   "id": "5b9c7f5d",
   "metadata": {},
   "outputs": [],
   "source": [
    "def convert(old_sd, conv_dict):\n",
    "    new_sd = {}\n",
    "    for k, v in old_sd.items():\n",
    "        nk = k\n",
    "        for s in conv_dict.keys():\n",
    "            if s in nk:\n",
    "                nk = nk.replace(s, conv_dict[s])        \n",
    "        new_sd[nk] = v\n",
    "    \n",
    "    return new_sd"
   ]
  },
  {
   "cell_type": "markdown",
   "id": "aa302bdb",
   "metadata": {},
   "source": [
    "### KN to Ours"
   ]
  },
  {
   "cell_type": "code",
   "execution_count": null,
   "id": "78a61e39",
   "metadata": {},
   "outputs": [],
   "source": [
    "conv_sd = convert(kn_model_sd, k2o_dict)\n",
    "torch.save({'model': conv_sd}, 'k2o_model.pth')"
   ]
  },
  {
   "cell_type": "markdown",
   "id": "8cb18f8f",
   "metadata": {},
   "source": [
    "### Ours to KN"
   ]
  },
  {
   "cell_type": "code",
   "execution_count": null,
   "id": "d2209626",
   "metadata": {},
   "outputs": [],
   "source": [
    "conv_sd = convert(our_model_sd, o2k_dict)\n",
    "torch.save({'model_state_dict': conv_sd}, 'o2k_model.pth')"
   ]
  },
  {
   "cell_type": "code",
   "execution_count": null,
   "id": "3e2399ea",
   "metadata": {
    "scrolled": true
   },
   "outputs": [],
   "source": [
    "for k in kn_model_sd.keys():\n",
    "    print(k, torch.norm(kn_model_sd[k]).cpu().item(), torch.norm(conv_sd[k]).cpu().item())"
   ]
  },
  {
   "cell_type": "code",
   "execution_count": null,
   "id": "f266ac25",
   "metadata": {},
   "outputs": [],
   "source": []
  }
 ],
 "metadata": {
  "kernelspec": {
   "display_name": "Python [conda env:nerf-pytorch]",
   "language": "python",
   "name": "conda-env-nerf-pytorch-py"
  },
  "language_info": {
   "codemirror_mode": {
    "name": "ipython",
    "version": 3
   },
   "file_extension": ".py",
   "mimetype": "text/x-python",
   "name": "python",
   "nbconvert_exporter": "python",
   "pygments_lexer": "ipython3",
   "version": "3.7.11"
  }
 },
 "nbformat": 4,
 "nbformat_minor": 5
}
