{
 "cells": [
  {
   "cell_type": "code",
   "execution_count": 1,
   "id": "c09491ed",
   "metadata": {},
   "outputs": [
    {
     "name": "stdout",
     "output_type": "stream",
     "text": [
      "Jupyter environment detected. Enabling Open3D WebVisualizer.\n",
      "[Open3D INFO] WebRTC GUI backend enabled.\n",
      "[Open3D INFO] WebRTCWindowSystem: HTTP handshake server disabled.\n"
     ]
    }
   ],
   "source": [
    "import numpy as np\n",
    "import open3d as o3d"
   ]
  },
  {
   "cell_type": "code",
   "execution_count": 2,
   "id": "5f56c70d",
   "metadata": {},
   "outputs": [],
   "source": [
    "grid = np.load('runs/chair/occupancy_grid.npz')['map']\n",
    "height, width, depth = grid.shape\n",
    "pts = [[h, w, d] for h in range(height) for w in range(width) for d in range(depth) if grid[h, w, d]]\n",
    "pts = np.array(pts)"
   ]
  },
  {
   "cell_type": "code",
   "execution_count": 3,
   "id": "7c41fcbc",
   "metadata": {},
   "outputs": [],
   "source": [
    "pcd = o3d.geometry.PointCloud()\n",
    "pcd.points = o3d.utility.Vector3dVector(pts)"
   ]
  },
  {
   "cell_type": "code",
   "execution_count": 4,
   "id": "9d6e113d",
   "metadata": {},
   "outputs": [],
   "source": [
    "voxel_grid = o3d.geometry.VoxelGrid.create_from_point_cloud(pcd, voxel_size=0.5)"
   ]
  },
  {
   "cell_type": "code",
   "execution_count": 5,
   "id": "a2a973a6",
   "metadata": {},
   "outputs": [],
   "source": [
    "o3d.visualization.draw_geometries([voxel_grid])"
   ]
  },
  {
   "cell_type": "code",
   "execution_count": null,
   "id": "a6ebdb97",
   "metadata": {},
   "outputs": [],
   "source": []
  }
 ],
 "metadata": {
  "kernelspec": {
   "display_name": "Python 3 (ipykernel)",
   "language": "python",
   "name": "python3"
  },
  "language_info": {
   "codemirror_mode": {
    "name": "ipython",
    "version": 3
   },
   "file_extension": ".py",
   "mimetype": "text/x-python",
   "name": "python",
   "nbconvert_exporter": "python",
   "pygments_lexer": "ipython3",
   "version": "3.7.11"
  }
 },
 "nbformat": 4,
 "nbformat_minor": 5
}
